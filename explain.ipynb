{
 "cells": [
  {
   "cell_type": "code",
   "execution_count": 1,
   "id": "d0dfb56b-e2d9-4d19-bef7-d243c93e25aa",
   "metadata": {},
   "outputs": [],
   "source": [
    "from explain_core.ModelEngine import ModelEngine"
   ]
  },
  {
   "cell_type": "code",
   "execution_count": 2,
   "id": "720d0ecf-ee87-4918-82bd-1d2c2d44f9f5",
   "metadata": {},
   "outputs": [
    {
     "name": "stdout",
     "output_type": "stream",
     "text": [
      "All models of Normal neonate loaded and initialized correctly. Have fun!\n"
     ]
    }
   ],
   "source": [
    "neo = ModelEngine(\"normal_neonate.json\")"
   ]
  },
  {
   "cell_type": "code",
   "execution_count": 6,
   "id": "6431e73d",
   "metadata": {},
   "outputs": [],
   "source": [
    "neo.Calculate(60)"
   ]
  },
  {
   "cell_type": "code",
   "execution_count": 4,
   "id": "5cf0c861",
   "metadata": {},
   "outputs": [
    {
     "data": {
      "text/plain": [
       "{'To2': 6.900000000000045,\n",
       " 'Tco2': 27.180000000000224,\n",
       " 'Alb': 30.000000000000718,\n",
       " 'Pi': 1.5000000000000184,\n",
       " 'U': 7.199999999999882,\n",
       " 'Na': 138.00000000000023,\n",
       " 'K': 4.0,\n",
       " 'Ca': 1.0,\n",
       " 'Mg': 0.8999999999999853,\n",
       " 'Cl': 103.0000000000008,\n",
       " 'Lact': 1.0}"
      ]
     },
     "execution_count": 4,
     "metadata": {},
     "output_type": "execute_result"
    }
   ],
   "source": [
    "neo.Models[\"LV\"].Solutes\n"
   ]
  },
  {
   "cell_type": "code",
   "execution_count": 5,
   "id": "9af9ee40",
   "metadata": {},
   "outputs": [
    {
     "data": {
      "text/plain": [
       "{'To2': 6.900000000000107,\n",
       " 'Tco2': 27.180000000000156,\n",
       " 'Alb': 30.000000000000412,\n",
       " 'Pi': 1.4999999999999998,\n",
       " 'U': 7.199999999999929,\n",
       " 'Na': 138.0,\n",
       " 'K': 4.0,\n",
       " 'Ca': 1.0,\n",
       " 'Mg': 0.8999999999999911,\n",
       " 'Cl': 103.00000000000047,\n",
       " 'Lact': 1.0}"
      ]
     },
     "execution_count": 5,
     "metadata": {},
     "output_type": "execute_result"
    }
   ],
   "source": [
    "neo.Models[\"AA\"].Solutes"
   ]
  },
  {
   "cell_type": "code",
   "execution_count": null,
   "id": "af0af7ec",
   "metadata": {},
   "outputs": [],
   "source": []
  }
 ],
 "metadata": {
  "kernelspec": {
   "display_name": "pypy3_env",
   "language": "python",
   "name": "python3"
  },
  "language_info": {
   "codemirror_mode": {
    "name": "ipython",
    "version": 3
   },
   "file_extension": ".py",
   "mimetype": "text/x-python",
   "name": "python",
   "nbconvert_exporter": "python",
   "pygments_lexer": "ipython3",
   "version": "3.9.15"
  },
  "vscode": {
   "interpreter": {
    "hash": "4b88326a804fac1e3e2216edbff840e0db3eddc7498a4ae4856e20e6cce842a3"
   }
  }
 },
 "nbformat": 4,
 "nbformat_minor": 5
}
