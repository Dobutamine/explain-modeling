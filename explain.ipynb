{
 "cells": [
  {
   "cell_type": "code",
   "execution_count": 1,
   "id": "d0dfb56b-e2d9-4d19-bef7-d243c93e25aa",
   "metadata": {},
   "outputs": [],
   "source": [
    "from explain_core.ModelEngine import ModelEngine"
   ]
  },
  {
   "cell_type": "code",
   "execution_count": 2,
   "id": "720d0ecf-ee87-4918-82bd-1d2c2d44f9f5",
   "metadata": {},
   "outputs": [
    {
     "name": "stdout",
     "output_type": "stream",
     "text": [
      "All models of Normal neonate loaded and initialized correctly. Have fun!\n"
     ]
    }
   ],
   "source": [
    "neo = ModelEngine(\"normal_neonate.json\")"
   ]
  },
  {
   "cell_type": "code",
   "execution_count": 7,
   "id": "6431e73d",
   "metadata": {},
   "outputs": [],
   "source": [
    "neo.Calculate(360)"
   ]
  },
  {
   "cell_type": "code",
   "execution_count": null,
   "id": "92bd64da",
   "metadata": {},
   "outputs": [],
   "source": []
  },
  {
   "cell_type": "code",
   "execution_count": null,
   "id": "97257599",
   "metadata": {},
   "outputs": [],
   "source": []
  }
 ],
 "metadata": {
  "kernelspec": {
   "display_name": "pypy3_env",
   "language": "python",
   "name": "python3"
  },
  "language_info": {
   "codemirror_mode": {
    "name": "ipython",
    "version": 3
   },
   "file_extension": ".py",
   "mimetype": "text/x-python",
   "name": "python",
   "nbconvert_exporter": "python",
   "pygments_lexer": "ipython3",
   "version": "3.9.15"
  },
  "vscode": {
   "interpreter": {
    "hash": "4b88326a804fac1e3e2216edbff840e0db3eddc7498a4ae4856e20e6cce842a3"
   }
  }
 },
 "nbformat": 4,
 "nbformat_minor": 5
}
