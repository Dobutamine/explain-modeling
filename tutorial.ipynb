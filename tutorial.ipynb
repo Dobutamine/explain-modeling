{
 "cells": [
  {
   "cell_type": "code",
   "execution_count": 2,
   "id": "d0dfb56b-e2d9-4d19-bef7-d243c93e25aa",
   "metadata": {},
   "outputs": [],
   "source": [
    "from explain_core.ModelEngine import ModelEngine"
   ]
  },
  {
   "cell_type": "code",
   "execution_count": 3,
   "id": "720d0ecf-ee87-4918-82bd-1d2c2d44f9f5",
   "metadata": {},
   "outputs": [
    {
     "name": "stdout",
     "output_type": "stream",
     "text": [
      "Normal neonate model loaded and initialized correctly.\n"
     ]
    }
   ],
   "source": [
    "neo = ModelEngine(\"normal_neonate.json\")"
   ]
  },
  {
   "cell_type": "code",
   "execution_count": null,
   "id": "6b0a6aea-b0f2-4aea-8697-9aec310badf4",
   "metadata": {},
   "outputs": [],
   "source": []
  }
 ],
 "metadata": {
  "kernelspec": {
   "display_name": "Python 3.10.6 64-bit ('3.10.6')",
   "language": "python",
   "name": "python3"
  },
  "language_info": {
   "codemirror_mode": {
    "name": "ipython",
    "version": 3
   },
   "file_extension": ".py",
   "mimetype": "text/x-python",
   "name": "python",
   "nbconvert_exporter": "python",
   "pygments_lexer": "ipython3",
   "version": "3.10.6"
  },
  "vscode": {
   "interpreter": {
    "hash": "0dab1a9e27ba8083629cb688b0139474026e6c2833cea96a29ce544cd4908139"
   }
  }
 },
 "nbformat": 4,
 "nbformat_minor": 5
}
